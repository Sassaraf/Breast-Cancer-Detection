{
 "cells": [
  {
   "cell_type": "code",
   "execution_count": 29,
   "metadata": {},
   "outputs": [],
   "source": [
    "import os\n",
    "import cv2\n",
    "from tqdm import tqdm\n",
    "import numpy as np\n",
    "import pandas as pd\n",
    "import matplotlib.pyplot as plt\n",
    "from sklearn.naive_bayes import GaussianNB\n",
    "from sklearn.linear_model import SGDClassifier\n",
    "from sklearn.metrics import confusion_matrix, ConfusionMatrixDisplay\n",
    "from sklearn.metrics import classification_report\n"
   ]
  },
  {
   "cell_type": "code",
   "execution_count": 30,
   "metadata": {},
   "outputs": [],
   "source": [
    "def print_image(file_path='dataset/label_0/262802.jpg'):\n",
    "    img = cv2.imread(file_path)\n",
    "    plt.imshow(img)\n",
    "    plt.show()"
   ]
  },
  {
   "cell_type": "code",
   "execution_count": 31,
   "metadata": {},
   "outputs": [],
   "source": [
    "def get_file_paths(data_path):\n",
    "    \"\"\"\n",
    "    walk through the directory and subdirectories using os.walk() nad returns a list of file paths\n",
    "    \"\"\"\n",
    "    all_files = []\n",
    "    for subdir, _, files in os.walk(data_path):\n",
    "        for file in files:\n",
    "            file_path = os.path.join(subdir, file)\n",
    "            all_files.append(file_path)\n",
    "    return all_files"
   ]
  },
  {
   "cell_type": "code",
   "execution_count": 32,
   "metadata": {},
   "outputs": [],
   "source": [
    "label_0_path = 'dataset/label_0'\n",
    "label_1_path = 'dataset/label_1'\n",
    "\n",
    "label_0_file_paths = pd.Series(get_file_paths(label_0_path))\n",
    "label_1_file_paths = pd.Series(get_file_paths(label_1_path))\n"
   ]
  },
  {
   "cell_type": "code",
   "execution_count": 33,
   "metadata": {},
   "outputs": [],
   "source": [
    "def get_batch(label_0_file_paths, label_0_n_files, label_1_file_paths, label_1_n_files):\n",
    "    X = np.array(\n",
    "        [\n",
    "            cv2.imread(file_path)[:, :, 0].flatten()\n",
    "            for file_path in label_0_file_paths.sample(label_0_n_files)\n",
    "        ]\n",
    "        + [\n",
    "            cv2.imread(file_path)[:, :, 0].flatten()\n",
    "            for file_path in label_1_file_paths.sample(label_1_n_files)\n",
    "        ]\n",
    "    )\n",
    "    y = np.array([0] * label_0_n_files + [1] * label_1_n_files)\n",
    "    return X, y\n"
   ]
  },
  {
   "cell_type": "code",
   "execution_count": 34,
   "metadata": {},
   "outputs": [],
   "source": [
    "test_label_0 = label_0_file_paths.sample(500)\n",
    "test_label_1 = label_1_file_paths.sample(100)\n",
    "\n",
    "label_0_file_paths = label_0_file_paths[~label_0_file_paths.isin(test_label_0)]\n",
    "label_1_file_paths = label_1_file_paths[~label_1_file_paths.isin(test_label_1)]"
   ]
  },
  {
   "cell_type": "code",
   "execution_count": 35,
   "metadata": {},
   "outputs": [],
   "source": [
    "X_test, y_test = get_batch(test_label_0, 500, test_label_1, 100)"
   ]
  },
  {
   "cell_type": "code",
   "execution_count": 36,
   "metadata": {},
   "outputs": [],
   "source": [
    "nb = GaussianNB()\n",
    "sgdc = SGDClassifier(n_jobs=-1)\n",
    "\n"
   ]
  },
  {
   "cell_type": "code",
   "execution_count": 37,
   "metadata": {},
   "outputs": [
    {
     "name": "stderr",
     "output_type": "stream",
     "text": [
      "100%|██████████| 100/100 [18:06<00:00, 10.87s/it]\n"
     ]
    }
   ],
   "source": [
    "n_steps = 100\n",
    "with tqdm(total=n_steps) as pbar:\n",
    "    for i in range(100):\n",
    "        X, y = get_batch(label_0_file_paths, 500, label_1_file_paths, 100)\n",
    "        nb.partial_fit(X, y, classes=[0, 1])\n",
    "        pbar.update(1)\n",
    "        \n"
   ]
  },
  {
   "cell_type": "code",
   "execution_count": 38,
   "metadata": {},
   "outputs": [],
   "source": [
    "y_pred_nb = nb.predict(X_test)\n",
    "\n"
   ]
  },
  {
   "cell_type": "code",
   "execution_count": 39,
   "metadata": {},
   "outputs": [
    {
     "name": "stdout",
     "output_type": "stream",
     "text": [
      "              precision    recall  f1-score   support\n",
      "\n",
      "           0       0.89      0.28      0.43       500\n",
      "           1       0.19      0.83      0.31       100\n",
      "\n",
      "    accuracy                           0.38       600\n",
      "   macro avg       0.54      0.56      0.37       600\n",
      "weighted avg       0.78      0.38      0.41       600\n",
      "\n"
     ]
    }
   ],
   "source": [
    "print(classification_report(y_test, y_pred_nb))"
   ]
  },
  {
   "cell_type": "code",
   "execution_count": 40,
   "metadata": {},
   "outputs": [
    {
     "data": {
      "image/png": "[encoded data removed]",
      "text/plain": [
       "<Figure size 640x480 with 2 Axes>"
      ]
     },
     "metadata": {},
     "output_type": "display_data"
    }
   ],
   "source": [
    "cm = confusion_matrix(y_test, y_pred_nb)\n",
    "disp = ConfusionMatrixDisplay(confusion_matrix=cm)\n",
    "disp.plot()\n",
    "plt.show()"
   ]
  }
 ],
 "metadata": {
  "kernelspec": {
   "display_name": "conda-python3.10-env",
   "language": "python",
   "name": "python3"
  },
  "language_info": {
   "codemirror_mode": {
    "name": "ipython",
    "version": 3
   },
   "file_extension": ".py",
   "mimetype": "text/x-python",
   "name": "python",
   "nbconvert_exporter": "python",
   "pygments_lexer": "ipython3",
   "version": "3.11.0"
  },
  "orig_nbformat": 4
 },
 "nbformat": 4,
 "nbformat_minor": 2
}
