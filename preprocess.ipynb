{
 "cells": [
  {
   "cell_type": "code",
   "execution_count": 1,
   "metadata": {},
   "outputs": [],
   "source": [
    "import os\n",
    "from tqdm import tqdm\n",
    "\n",
    "import numpy as np\n",
    "import pandas as pd\n",
    "import dicomsdl\n",
    "import cv2\n",
    "import matplotlib.pyplot as plt"
   ]
  },
  {
   "cell_type": "code",
   "execution_count": 2,
   "metadata": {},
   "outputs": [],
   "source": [
    "def get_file_paths(data_path):\n",
    "    \"\"\"\n",
    "    walk through the directory and subdirectories using os.walk() nad returns a list of file paths\n",
    "    \"\"\"\n",
    "    all_files = []\n",
    "    for subdir, _, files in os.walk(data_path):\n",
    "        for file in files:\n",
    "            # create the full file path by joining the subdirectory and file name\n",
    "            file_path = os.path.join(subdir, file)\n",
    "            # append the file path to the list of all files\n",
    "            all_files.append(file_path)\n",
    "    return all_files\n",
    "\n",
    "\n",
    "def get_id(path):\n",
    "    return int(os.path.basename(path)[: -len(\".dcm\")])\n"
   ]
  },
  {
   "cell_type": "code",
   "execution_count": 3,
   "metadata": {},
   "outputs": [
    {
     "name": "stdout",
     "output_type": "stream",
     "text": [
      "0\n"
     ]
    }
   ],
   "source": [
    "data_path = \"/media/ckelid/8CAA3D31AA3D1962/train_images/\"\n",
    "\n",
    "\n",
    "metadata = pd.read_csv(\"train.csv\").merge(\n",
    "    pd.DataFrame(\n",
    "        [(file_path, get_id(file_path)) for file_path in get_file_paths(data_path)],\n",
    "        columns=[\"file_path\", \"image_id\"],\n",
    "    ),\n",
    "    on=\"image_id\",\n",
    "    how=\"left\",\n",
    ")\n",
    "print(metadata.file_path.isna().sum())\n",
    "assert not metadata.file_path.isna().sum()"
   ]
  },
  {
   "cell_type": "code",
   "execution_count": 4,
   "metadata": {},
   "outputs": [],
   "source": [
    "class_1_n_samples = metadata[metadata.cancer == 1].shape[0]\n",
    "class_0_n_samples = class_1_n_samples * 5\n",
    "\n",
    "n_samples = class_1_n_samples + class_0_n_samples\n",
    "metadata = pd.concat(\n",
    "    [\n",
    "        metadata[metadata.cancer == 1].sample(class_1_n_samples, random_state=42),\n",
    "        metadata[metadata.cancer == 0].sample(class_0_n_samples, random_state=42),\n",
    "    ]\n",
    ")\n"
   ]
  },
  {
   "cell_type": "code",
   "execution_count": 5,
   "metadata": {},
   "outputs": [],
   "source": [
    "def borders_std(image, border_width):\n",
    "    return image[:, 0:border_width].std(), image[:, -border_width:-1].std()\n",
    "\n",
    "\n",
    "def get_side(left_border_std, right_border_std):\n",
    "    if left_border_std > right_border_std:\n",
    "        return \"L\"\n",
    "    return \"R\"\n",
    "\n",
    "\n",
    "def process_background(image, image_border_sum, background_border_sum):\n",
    "    if image_border_sum < background_border_sum:\n",
    "        return 255 - image\n",
    "    return image\n",
    "\n",
    "\n",
    "\n",
    "def get_image(dicom_path):\n",
    "    return dicomsdl.open(dicom_path).pixelData()\n",
    "\n",
    "\n",
    "def resize_image(image, target_size):\n",
    "    return cv2.resize(image, target_size, interpolation=cv2.INTER_CUBIC)\n",
    "\n",
    "\n",
    "def normalize_to_0_255(image):\n",
    "    return cv2.normalize(image, None, 0, 255, cv2.NORM_MINMAX, cv2.CV_8UC1)\n",
    "\n",
    "\n",
    "def remove_empty_background(image, threshold=1):\n",
    "    for index in range(image.shape[1])[::-1]:\n",
    "        if image[:, index].std() > threshold:\n",
    "            return image[:, :index]\n",
    "    return image\n",
    "    \n",
    "\n",
    "\n",
    "def save_image(image, image_id, label):\n",
    "    if label == 1:\n",
    "            cv2.imwrite(f\"dataset/label_1/{image_id}.jpg\", image)\n",
    "    elif label == 0:\n",
    "        cv2.imwrite(f\"dataset/label_0/{image_id}.jpg\", image)\n",
    "\n",
    "\n",
    "def process_image(image):\n",
    "    image = normalize_to_0_255(image)\n",
    "    border_width = int(image.shape[1] * 0.1)\n",
    "    left_border_std, right_border_std = borders_std(image, border_width)\n",
    "    side = get_side(left_border_std, right_border_std)\n",
    "    if side == \"R\":\n",
    "        image = np.fliplr(image)\n",
    "    image_border_sum, background_border_sum = image[:, 0:border_width].sum(), image[:, -border_width:-1].sum()\n",
    "    image = process_background(image, image_border_sum, background_border_sum)\n",
    "    image = remove_empty_background(image)\n",
    "    return image\n"
   ]
  },
  {
   "cell_type": "code",
   "execution_count": 6,
   "metadata": {},
   "outputs": [
    {
     "name": "stderr",
     "output_type": "stream",
     "text": [
      "100%|██████████| 6948/6948 [47:56<00:00,  2.42it/s]  \n"
     ]
    }
   ],
   "source": [
    "target_image_size = (512, 2048)  # Target image size, defined by the ratio of height to width of 1000 images after preprocessing\n",
    "with tqdm(total=n_samples) as pbar:\n",
    "    for image_id, file_path, label in zip(\n",
    "        metadata.image_id, metadata.file_path, metadata.cancer\n",
    "    ):\n",
    "        image = get_image(file_path)\n",
    "        image = process_image(image)\n",
    "        image = resize_image(image, target_image_size)\n",
    "        save_image(image, image_id, label)\n",
    "        pbar.update(1)\n"
   ]
  },
  {
   "cell_type": "code",
   "execution_count": 7,
   "metadata": {},
   "outputs": [
    {
     "name": "stdout",
     "output_type": "stream",
     "text": [
      "Done\n"
     ]
    }
   ],
   "source": [
    "print(\"Done\")"
   ]
  }
 ],
 "metadata": {
  "kernelspec": {
   "display_name": "conda-python3.10-env",
   "language": "python",
   "name": "python3"
  },
  "language_info": {
   "codemirror_mode": {
    "name": "ipython",
    "version": 3
   },
   "file_extension": ".py",
   "mimetype": "text/x-python",
   "name": "python",
   "nbconvert_exporter": "python",
   "pygments_lexer": "ipython3",
   "version": "3.10.9"
  },
  "orig_nbformat": 4
 },
 "nbformat": 4,
 "nbformat_minor": 2
}
